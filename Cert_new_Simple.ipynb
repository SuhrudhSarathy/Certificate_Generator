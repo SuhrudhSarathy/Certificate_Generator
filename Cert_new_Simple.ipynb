{
 "cells": [
  {
   "cell_type": "code",
   "execution_count": 76,
   "metadata": {},
   "outputs": [],
   "source": [
    "import numpy as np\n",
    "import pandas as pd"
   ]
  },
  {
   "cell_type": "code",
   "execution_count": 95,
   "metadata": {},
   "outputs": [],
   "source": [
    "from PIL import Image, ImageFont, ImageDraw, ImageEnhance\n",
    "source_img = Image.open('Quantum Information and Computing application Mentors.png')\n",
    "list_names = pd.read_csv('Instructors list sem2 2018-19 - Sheet2.csv')\n",
    "names = list_names.loc[(list_names['Course'] == 'Quantum Information and Computing application') & (list_names['Instructor/Mentor'] == 'Mentor') ,'Name']\n"
   ]
  },
  {
   "cell_type": "code",
   "execution_count": 97,
   "metadata": {},
   "outputs": [],
   "source": [
    "names = list_names.loc[(list_names['Course'] == 'Quantum Information and Computing application'),['Name','Instructor/Mentor']]"
   ]
  },
  {
   "cell_type": "code",
   "execution_count": 70,
   "metadata": {},
   "outputs": [
    {
     "name": "stderr",
     "output_type": "stream",
     "text": [
      " 33%|███▎      | 1/3 [00:00<00:00,  7.51it/s]"
     ]
    },
    {
     "name": "stdout",
     "output_type": "stream",
     "text": [
      "Milan Jain\n",
      "Sonali Saksena\n"
     ]
    },
    {
     "name": "stderr",
     "output_type": "stream",
     "text": [
      "100%|██████████| 3/3 [00:00<00:00,  7.29it/s]"
     ]
    },
    {
     "name": "stdout",
     "output_type": "stream",
     "text": [
      "Arshdeep Singh\n"
     ]
    },
    {
     "name": "stderr",
     "output_type": "stream",
     "text": [
      "\n"
     ]
    }
   ],
   "source": [
    "draw = ImageDraw.Draw(source_img)\n",
    "from tqdm import tqdm\n",
    "bounding_box = [300, 320, 800, 385]\n",
    "x1, y1, x2, y2 = bounding_box  # For easy reading\n",
    "font = ImageFont.truetype('PTF55F.ttf', size=30)\n",
    "names_list = list(names)\n",
    "import os\n",
    "try:\n",
    "    os.mkdir('Quantum Information and Computing application Mentors')\n",
    "except FileExistsError:\n",
    "    pass\n",
    "for elem in tqdm(names_list):\n",
    "    print(elem)\n",
    "    temp_img = source_img.copy()\n",
    "    draw = ImageDraw.Draw(temp_img)\n",
    "    w, h = draw.textsize(elem, font=font)\n",
    "    x = (x2 - x1 - w)/2 + x1\n",
    "    y = (y2 - y1 - h)/2 + y1\n",
    "    draw.text((x, y), elem, align = 'center', fill = 'red', font = font)\n",
    "    temp_img.save('Quantum Information and Computing application Mentors/{}.png'.format(elem))"
   ]
  },
  {
   "cell_type": "code",
   "execution_count": null,
   "metadata": {},
   "outputs": [],
   "source": []
  }
 ],
 "metadata": {
  "kernelspec": {
   "display_name": "Python [conda root]",
   "language": "python",
   "name": "conda-root-py"
  },
  "language_info": {
   "codemirror_mode": {
    "name": "ipython",
    "version": 3
   },
   "file_extension": ".py",
   "mimetype": "text/x-python",
   "name": "python",
   "nbconvert_exporter": "python",
   "pygments_lexer": "ipython3",
   "version": "3.6.5"
  }
 },
 "nbformat": 4,
 "nbformat_minor": 2
}
