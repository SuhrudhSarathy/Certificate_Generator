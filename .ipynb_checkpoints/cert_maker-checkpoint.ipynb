{
 "cells": [
  {
   "cell_type": "code",
   "execution_count": 3,
   "metadata": {},
   "outputs": [],
   "source": [
    "import numpy as np\n",
    "import pandas as pd\n",
    "import os\n",
    "from PIL import Image, ImageFont, ImageDraw, ImageEnhance\n",
    "from tqdm import tqdm\n",
    "import sys\n",
    "\n",
    "if __name__ == \"__main__\":\n",
    "    arguments = sys.argv[1:]\n",
    "    assert len(arguments) != 0\n",
    "    source_img = Image.open(arguments[0])\n",
    "\n",
    "    list_names = pd.read_csv(arguments[1])\n",
    "    if arguments[3] == 'Instructor':\n",
    "        names = list_names.loc[(list_names['Course'] == arguments[2]) & (list_names['Instructor/Mentor'] == arguments[4]) ,'Name']\n",
    "        names = list_names.loc[(list_names['Course'] == arguments[2]),['Name','Instructor/Mentor']]\n",
    "    elif arguments[3] == 'Student':\n",
    "        names = list_names.loc[(list_names['Course'] == arguments[2]) & (list_names['Type'] == arguments[4]) ,'Name']\n",
    "        names = list_names.loc[(list_names['Course'] == arguments[2]),['Name','Type']]\n",
    "    else:\n",
    "        raise Exception('Invalid Argument at position 4 please refer the docs')\n",
    "\n",
    "    draw = ImageDraw.Draw(source_img)\n",
    "\n",
    "    bounding_box = [300, 320, 800, 385]\n",
    "    x1, y1, x2, y2 = bounding_box  # For easy reading\n",
    "    font = ImageFont.truetype('PTF55F.ttf', size=30)\n",
    "    names_list = list(names)\n",
    "\n",
    "    try:\n",
    "        os.mkdir(arguments[2] + ' ' + arguments[4])\n",
    "    except FileExistsError:\n",
    "        pass\n",
    "    for elem in tqdm(names_list):\n",
    "        print(elem)\n",
    "        temp_img = source_img.copy()\n",
    "        draw = ImageDraw.Draw(temp_img)\n",
    "        w, h = draw.textsize(elem, font=font)\n",
    "        x = (x2 - x1 - w)/2 + x1\n",
    "        y = (y2 - y1 - h)/2 + y1\n",
    "        draw.text((x, y), elem, align = 'center', fill = 'red', font = font)\n",
    "        temp_img.save(arguments[2] + ' ' + arguments[4] + '/{}.png'.format(elem))"
   ]
  },
  {
   "cell_type": "code",
   "execution_count": null,
   "metadata": {},
   "outputs": [],
   "source": []
  },
  {
   "cell_type": "code",
   "execution_count": null,
   "metadata": {},
   "outputs": [],
   "source": []
  },
  {
   "cell_type": "code",
   "execution_count": null,
   "metadata": {},
   "outputs": [],
   "source": []
  }
 ],
 "metadata": {
  "kernelspec": {
   "display_name": "Python [conda root]",
   "language": "python",
   "name": "conda-root-py"
  },
  "language_info": {
   "codemirror_mode": {
    "name": "ipython",
    "version": 3
   },
   "file_extension": ".py",
   "mimetype": "text/x-python",
   "name": "python",
   "nbconvert_exporter": "python",
   "pygments_lexer": "ipython3",
   "version": "3.6.5"
  }
 },
 "nbformat": 4,
 "nbformat_minor": 2
}
